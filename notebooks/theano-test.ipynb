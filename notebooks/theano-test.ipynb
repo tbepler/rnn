{
 "cells": [
  {
   "cell_type": "code",
   "execution_count": 1,
   "metadata": {
    "collapsed": false
   },
   "outputs": [
    {
     "name": "stderr",
     "output_type": "stream",
     "text": [
      "Using gpu device 0: GeForce GTX 580 (CNMeM is disabled, CuDNN not available)\n"
     ]
    }
   ],
   "source": [
    "import os\n",
    "os.environ[\"THEANO_FLAGS\"] = \"device=gpu,floatX=float32\"\n",
    "import theano\n",
    "import theano.tensor as th"
   ]
  },
  {
   "cell_type": "code",
   "execution_count": 2,
   "metadata": {
    "collapsed": false
   },
   "outputs": [
    {
     "data": {
      "text/plain": [
       "<module 'rnn.theano.lstm' from 'rnn/theano/lstm.pyc'>"
      ]
     },
     "execution_count": 2,
     "metadata": {},
     "output_type": "execute_result"
    }
   ],
   "source": [
    "import rnn.theano.lstm as lstm\n",
    "reload(lstm)"
   ]
  },
  {
   "cell_type": "code",
   "execution_count": null,
   "metadata": {
    "collapsed": false
   },
   "outputs": [],
   "source": []
  },
  {
   "cell_type": "code",
   "execution_count": 15,
   "metadata": {
    "collapsed": true
   },
   "outputs": [],
   "source": [
    "m = 10\n",
    "b = 30\n",
    "l = 100\n",
    "\n",
    "n = 5"
   ]
  },
  {
   "cell_type": "code",
   "execution_count": 4,
   "metadata": {
    "collapsed": true
   },
   "outputs": [],
   "source": [
    "x = th.tensor3()\n",
    "y0 = th.matrix()\n",
    "c0 = th.matrix()\n",
    "y = th.ivector()"
   ]
  },
  {
   "cell_type": "code",
   "execution_count": 5,
   "metadata": {
    "collapsed": false
   },
   "outputs": [],
   "source": [
    "layer = lstm.LSTM(m, n)"
   ]
  },
  {
   "cell_type": "code",
   "execution_count": 6,
   "metadata": {
    "collapsed": false
   },
   "outputs": [],
   "source": [
    "yh = th.nnet.softmax(layer.foldl(y0, c0, x)[0])\n",
    "err = th.sum(th.nnet.categorical_crossentropy(yh, y))"
   ]
  },
  {
   "cell_type": "code",
   "execution_count": 7,
   "metadata": {
    "collapsed": false
   },
   "outputs": [],
   "source": [
    "lr = th.scalar()\n",
    "\n",
    "glayer = th.grad(err, layer.weights)\n",
    "update = [(layer.weights, layer.weights-lr*glayer)]"
   ]
  },
  {
   "cell_type": "code",
   "execution_count": 8,
   "metadata": {
    "collapsed": true
   },
   "outputs": [],
   "source": [
    "train = theano.function([y0, c0, x, y, lr], [err, yh], updates=update)\n",
    "predict = theano.function([y0, c0, x], [yh])"
   ]
  },
  {
   "cell_type": "code",
   "execution_count": 9,
   "metadata": {
    "collapsed": true
   },
   "outputs": [],
   "source": [
    "import numpy as np"
   ]
  },
  {
   "cell_type": "code",
   "execution_count": 16,
   "metadata": {
    "collapsed": true
   },
   "outputs": [],
   "source": [
    "X = np.random.randn(l, b, m).astype(theano.config.floatX)\n",
    "Y = np.random.randint(0, n, (b)).astype(np.int32)\n",
    "y0_ = np.zeros((b,n), dtype=theano.config.floatX)\n",
    "c0_ = np.zeros((b,n), dtype=theano.config.floatX)"
   ]
  },
  {
   "cell_type": "code",
   "execution_count": 17,
   "metadata": {
    "collapsed": false
   },
   "outputs": [
    {
     "data": {
      "text/plain": [
       "[array([[ 0.17801453,  0.22625414,  0.15585496,  0.25424045,  0.18563591],\n",
       "        [ 0.185261  ,  0.18194644,  0.18853532,  0.27313384,  0.17112339],\n",
       "        [ 0.1946509 ,  0.19229355,  0.17791733,  0.30004901,  0.13508922],\n",
       "        [ 0.17894717,  0.15347485,  0.24696073,  0.28369337,  0.13692389],\n",
       "        [ 0.15722714,  0.14678574,  0.28056678,  0.24534455,  0.17007579],\n",
       "        [ 0.16964795,  0.19446643,  0.20784672,  0.28686753,  0.14117138],\n",
       "        [ 0.18922624,  0.17783906,  0.20874043,  0.26831841,  0.15587588],\n",
       "        [ 0.15668611,  0.21235274,  0.22828807,  0.2427893 ,  0.15988377],\n",
       "        [ 0.19309187,  0.22749022,  0.20609356,  0.24919999,  0.12412445],\n",
       "        [ 0.22340846,  0.16644832,  0.18779045,  0.2553643 ,  0.16698849],\n",
       "        [ 0.15513174,  0.13535428,  0.2764253 ,  0.24119923,  0.19188948],\n",
       "        [ 0.19817697,  0.16263026,  0.22173324,  0.27020767,  0.1472518 ],\n",
       "        [ 0.1399356 ,  0.2049952 ,  0.19378562,  0.2615639 ,  0.19971965],\n",
       "        [ 0.23154528,  0.15633705,  0.16334178,  0.27659845,  0.1721774 ],\n",
       "        [ 0.19148476,  0.14480698,  0.20234974,  0.27604881,  0.18530975],\n",
       "        [ 0.20843679,  0.14664908,  0.22666186,  0.25999689,  0.15825544],\n",
       "        [ 0.19224828,  0.18683563,  0.17821126,  0.27534598,  0.16735885],\n",
       "        [ 0.16371675,  0.17290021,  0.21690346,  0.29980329,  0.14667633],\n",
       "        [ 0.19812414,  0.18637107,  0.23970519,  0.226588  ,  0.14921154],\n",
       "        [ 0.22007923,  0.18216033,  0.19044976,  0.26155415,  0.14575656],\n",
       "        [ 0.18203114,  0.15309109,  0.20254709,  0.29932168,  0.16300902],\n",
       "        [ 0.23180506,  0.15235218,  0.19005816,  0.27092242,  0.15486221],\n",
       "        [ 0.21471363,  0.13517074,  0.21009588,  0.26059136,  0.1794284 ],\n",
       "        [ 0.19527583,  0.1628816 ,  0.20068347,  0.30209848,  0.13906066],\n",
       "        [ 0.18708183,  0.12622648,  0.28791779,  0.26495939,  0.13381454],\n",
       "        [ 0.22680911,  0.15667757,  0.20340282,  0.25432184,  0.15878867],\n",
       "        [ 0.21839745,  0.14569473,  0.20607105,  0.28747129,  0.14236546],\n",
       "        [ 0.17392595,  0.18601185,  0.19767053,  0.30049756,  0.14189407],\n",
       "        [ 0.16098939,  0.27181339,  0.17180403,  0.22553228,  0.16986093],\n",
       "        [ 0.20749767,  0.16969191,  0.19416402,  0.29329914,  0.13534722]], dtype=float32)]"
      ]
     },
     "execution_count": 17,
     "metadata": {},
     "output_type": "execute_result"
    }
   ],
   "source": [
    "predict(y0_, c0_, X)"
   ]
  },
  {
   "cell_type": "code",
   "execution_count": 18,
   "metadata": {
    "collapsed": false
   },
   "outputs": [
    {
     "name": "stdout",
     "output_type": "stream",
     "text": [
      "[4 0 2 1 3 2 0 2 0 1 3 0 1 1 3 0 1 4 1 4 4 2 2 4 3 4 4 0 3 1]\n"
     ]
    }
   ],
   "source": [
    "print Y"
   ]
  },
  {
   "cell_type": "code",
   "execution_count": 42,
   "metadata": {
    "collapsed": false
   },
   "outputs": [
    {
     "name": "stdout",
     "output_type": "stream",
     "text": [
      "990/1000, err=24.8164558411 \n",
      "25.7662658691 24.8113059998\n",
      "[[ 0.12957083  0.13746351  0.1186552   0.12569484  0.48861557]\n",
      " [ 0.5474866   0.11246251  0.10019912  0.12539458  0.1144572 ]\n",
      " [ 0.19242294  0.16377382  0.30452904  0.18684906  0.15242516]\n",
      " [ 0.14766367  0.39366099  0.10266787  0.2258137   0.1301938 ]\n",
      " [ 0.13587016  0.12014776  0.1185615   0.48076296  0.14465767]\n",
      " [ 0.12042652  0.10412783  0.4530766   0.09781446  0.22455461]\n",
      " [ 0.48983553  0.13170192  0.11837449  0.12514646  0.13494164]\n",
      " [ 0.1880586   0.15625277  0.32888764  0.17520382  0.15159723]\n",
      " [ 0.50924623  0.13278016  0.10655316  0.12567276  0.12574768]\n",
      " [ 0.14450714  0.42698535  0.09308267  0.10990848  0.22551629]\n",
      " [ 0.15114671  0.15111208  0.15030198  0.39401531  0.15342396]\n",
      " [ 0.43786058  0.13492467  0.11165528  0.14558657  0.16997293]\n",
      " [ 0.14901631  0.40320969  0.09428317  0.10501931  0.24847157]\n",
      " [ 0.09655762  0.44952098  0.08505963  0.14166337  0.22719845]\n",
      " [ 0.12552445  0.11538129  0.12459189  0.51410496  0.12039746]\n",
      " [ 0.58003908  0.10193831  0.10125732  0.10711207  0.10965326]\n",
      " [ 0.11768177  0.4129214   0.10016314  0.10758384  0.26164985]\n",
      " [ 0.11354247  0.13858815  0.09146377  0.09809825  0.55830735]\n",
      " [ 0.18055901  0.43746448  0.11716236  0.12620303  0.13861112]\n",
      " [ 0.12247901  0.10552665  0.09517079  0.14479683  0.53202677]\n",
      " [ 0.1662024   0.13476075  0.10414568  0.10502124  0.48986986]\n",
      " [ 0.16969931  0.16580224  0.34089386  0.14310078  0.18050377]\n",
      " [ 0.20001459  0.20166634  0.31800076  0.1410412   0.13927712]\n",
      " [ 0.11827745  0.13211924  0.10292062  0.15556604  0.49111664]\n",
      " [ 0.18360581  0.12321974  0.11453134  0.45392945  0.12471365]\n",
      " [ 0.110064    0.10663614  0.10269879  0.11836657  0.56223452]\n",
      " [ 0.15261897  0.15053883  0.09507066  0.14706279  0.4547087 ]\n",
      " [ 0.52914119  0.12045871  0.11333455  0.11852827  0.11853725]\n",
      " [ 0.2189431   0.20496713  0.17072055  0.19994693  0.20542225]\n",
      " [ 0.14299501  0.42781773  0.12979244  0.16751756  0.13187735]]\n",
      "[4 0 2 1 3 2 0 2 0 1 3 0 1 1 3 0 1 4 1 4 4 2 2 4 3 4 4 0 3 1]\n"
     ]
    }
   ],
   "source": [
    "iters = 1000\n",
    "errs = np.zeros(iters)\n",
    "for i in xrange(iters):\n",
    "    err, yh = train(y0_, c0_, X, Y, 0.99999**i)\n",
    "    errs[i] = err\n",
    "    if i % 10 == 0:\n",
    "        print '\\r{:4>0}/{}, err={}'.format(i,iters, err),\n",
    "print ''\n",
    "print errs[0], errs[-1]\n",
    "print yh\n",
    "print Y"
   ]
  },
  {
   "cell_type": "code",
   "execution_count": 43,
   "metadata": {
    "collapsed": false
   },
   "outputs": [
    {
     "name": "stdout",
     "output_type": "stream",
     "text": [
      "[4 0 2 1 3 2 0 2 0 1 3 0 1 1 3 0 1 4 1 4 4 2 2 4 3 4 4 0 0 1]\n"
     ]
    },
    {
     "data": {
      "text/plain": [
       "0.96666666666666667"
      ]
     },
     "execution_count": 43,
     "metadata": {},
     "output_type": "execute_result"
    }
   ],
   "source": [
    "print np.argmax(yh, axis=1)\n",
    "sum(np.argmax(yh, axis=1)==Y)/float(len(Y))"
   ]
  },
  {
   "cell_type": "code",
   "execution_count": null,
   "metadata": {
    "collapsed": true
   },
   "outputs": [],
   "source": []
  }
 ],
 "metadata": {
  "kernelspec": {
   "display_name": "Python 2",
   "language": "python",
   "name": "python2"
  },
  "language_info": {
   "codemirror_mode": {
    "name": "ipython",
    "version": 2
   },
   "file_extension": ".py",
   "mimetype": "text/x-python",
   "name": "python",
   "nbconvert_exporter": "python",
   "pygments_lexer": "ipython2",
   "version": "2.7.9"
  }
 },
 "nbformat": 4,
 "nbformat_minor": 0
}
